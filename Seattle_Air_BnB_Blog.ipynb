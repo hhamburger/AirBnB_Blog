{
 "cells": [
  {
   "cell_type": "code",
   "execution_count": 1,
   "metadata": {},
   "outputs": [],
   "source": [
    "import numpy as np\n",
    "import pandas as pd\n",
    "import matplotlib.pyplot as plt\n",
    "%matplotlib inline\n",
    "\n",
    "from datetime import datetime\n",
    "from datetime import timedelta\n",
    "from dateutil.parser import parse\n",
    "\n",
    "calendar = pd.read_csv('calendar.csv')\n",
    "listings = pd.read_csv('listings.csv')\n",
    "reviews = pd.read_csv('reviews.csv')"
   ]
  },
  {
   "cell_type": "markdown",
   "metadata": {},
   "source": [
    "## Visualize Headings of all csv files"
   ]
  },
  {
   "cell_type": "code",
   "execution_count": 2,
   "metadata": {},
   "outputs": [
    {
     "data": {
      "text/html": [
       "<div>\n",
       "<style scoped>\n",
       "    .dataframe tbody tr th:only-of-type {\n",
       "        vertical-align: middle;\n",
       "    }\n",
       "\n",
       "    .dataframe tbody tr th {\n",
       "        vertical-align: top;\n",
       "    }\n",
       "\n",
       "    .dataframe thead th {\n",
       "        text-align: right;\n",
       "    }\n",
       "</style>\n",
       "<table border=\"1\" class=\"dataframe\">\n",
       "  <thead>\n",
       "    <tr style=\"text-align: right;\">\n",
       "      <th></th>\n",
       "      <th>listing_id</th>\n",
       "      <th>date</th>\n",
       "      <th>available</th>\n",
       "      <th>price</th>\n",
       "    </tr>\n",
       "  </thead>\n",
       "  <tbody>\n",
       "    <tr>\n",
       "      <th>0</th>\n",
       "      <td>241032</td>\n",
       "      <td>2016-01-04</td>\n",
       "      <td>t</td>\n",
       "      <td>$85.00</td>\n",
       "    </tr>\n",
       "    <tr>\n",
       "      <th>1</th>\n",
       "      <td>241032</td>\n",
       "      <td>2016-01-05</td>\n",
       "      <td>t</td>\n",
       "      <td>$85.00</td>\n",
       "    </tr>\n",
       "    <tr>\n",
       "      <th>2</th>\n",
       "      <td>241032</td>\n",
       "      <td>2016-01-06</td>\n",
       "      <td>f</td>\n",
       "      <td>NaN</td>\n",
       "    </tr>\n",
       "    <tr>\n",
       "      <th>3</th>\n",
       "      <td>241032</td>\n",
       "      <td>2016-01-07</td>\n",
       "      <td>f</td>\n",
       "      <td>NaN</td>\n",
       "    </tr>\n",
       "    <tr>\n",
       "      <th>4</th>\n",
       "      <td>241032</td>\n",
       "      <td>2016-01-08</td>\n",
       "      <td>f</td>\n",
       "      <td>NaN</td>\n",
       "    </tr>\n",
       "  </tbody>\n",
       "</table>\n",
       "</div>"
      ],
      "text/plain": [
       "   listing_id        date available   price\n",
       "0      241032  2016-01-04         t  $85.00\n",
       "1      241032  2016-01-05         t  $85.00\n",
       "2      241032  2016-01-06         f     NaN\n",
       "3      241032  2016-01-07         f     NaN\n",
       "4      241032  2016-01-08         f     NaN"
      ]
     },
     "execution_count": 2,
     "metadata": {},
     "output_type": "execute_result"
    }
   ],
   "source": [
    "calendar.head()"
   ]
  },
  {
   "cell_type": "code",
   "execution_count": 3,
   "metadata": {},
   "outputs": [
    {
     "data": {
      "text/html": [
       "<div>\n",
       "<style scoped>\n",
       "    .dataframe tbody tr th:only-of-type {\n",
       "        vertical-align: middle;\n",
       "    }\n",
       "\n",
       "    .dataframe tbody tr th {\n",
       "        vertical-align: top;\n",
       "    }\n",
       "\n",
       "    .dataframe thead th {\n",
       "        text-align: right;\n",
       "    }\n",
       "</style>\n",
       "<table border=\"1\" class=\"dataframe\">\n",
       "  <thead>\n",
       "    <tr style=\"text-align: right;\">\n",
       "      <th></th>\n",
       "      <th>id</th>\n",
       "      <th>listing_url</th>\n",
       "      <th>scrape_id</th>\n",
       "      <th>last_scraped</th>\n",
       "      <th>name</th>\n",
       "      <th>summary</th>\n",
       "      <th>space</th>\n",
       "      <th>description</th>\n",
       "      <th>experiences_offered</th>\n",
       "      <th>neighborhood_overview</th>\n",
       "      <th>...</th>\n",
       "      <th>review_scores_value</th>\n",
       "      <th>requires_license</th>\n",
       "      <th>license</th>\n",
       "      <th>jurisdiction_names</th>\n",
       "      <th>instant_bookable</th>\n",
       "      <th>cancellation_policy</th>\n",
       "      <th>require_guest_profile_picture</th>\n",
       "      <th>require_guest_phone_verification</th>\n",
       "      <th>calculated_host_listings_count</th>\n",
       "      <th>reviews_per_month</th>\n",
       "    </tr>\n",
       "  </thead>\n",
       "  <tbody>\n",
       "    <tr>\n",
       "      <th>0</th>\n",
       "      <td>241032</td>\n",
       "      <td>https://www.airbnb.com/rooms/241032</td>\n",
       "      <td>20160104002432</td>\n",
       "      <td>2016-01-04</td>\n",
       "      <td>Stylish Queen Anne Apartment</td>\n",
       "      <td>NaN</td>\n",
       "      <td>Make your self at home in this charming one-be...</td>\n",
       "      <td>Make your self at home in this charming one-be...</td>\n",
       "      <td>none</td>\n",
       "      <td>NaN</td>\n",
       "      <td>...</td>\n",
       "      <td>10.0</td>\n",
       "      <td>f</td>\n",
       "      <td>NaN</td>\n",
       "      <td>WASHINGTON</td>\n",
       "      <td>f</td>\n",
       "      <td>moderate</td>\n",
       "      <td>f</td>\n",
       "      <td>f</td>\n",
       "      <td>2</td>\n",
       "      <td>4.07</td>\n",
       "    </tr>\n",
       "    <tr>\n",
       "      <th>1</th>\n",
       "      <td>953595</td>\n",
       "      <td>https://www.airbnb.com/rooms/953595</td>\n",
       "      <td>20160104002432</td>\n",
       "      <td>2016-01-04</td>\n",
       "      <td>Bright &amp; Airy Queen Anne Apartment</td>\n",
       "      <td>Chemically sensitive? We've removed the irrita...</td>\n",
       "      <td>Beautiful, hypoallergenic apartment in an extr...</td>\n",
       "      <td>Chemically sensitive? We've removed the irrita...</td>\n",
       "      <td>none</td>\n",
       "      <td>Queen Anne is a wonderful, truly functional vi...</td>\n",
       "      <td>...</td>\n",
       "      <td>10.0</td>\n",
       "      <td>f</td>\n",
       "      <td>NaN</td>\n",
       "      <td>WASHINGTON</td>\n",
       "      <td>f</td>\n",
       "      <td>strict</td>\n",
       "      <td>t</td>\n",
       "      <td>t</td>\n",
       "      <td>6</td>\n",
       "      <td>1.48</td>\n",
       "    </tr>\n",
       "    <tr>\n",
       "      <th>2</th>\n",
       "      <td>3308979</td>\n",
       "      <td>https://www.airbnb.com/rooms/3308979</td>\n",
       "      <td>20160104002432</td>\n",
       "      <td>2016-01-04</td>\n",
       "      <td>New Modern House-Amazing water view</td>\n",
       "      <td>New modern house built in 2013.  Spectacular s...</td>\n",
       "      <td>Our house is modern, light and fresh with a wa...</td>\n",
       "      <td>New modern house built in 2013.  Spectacular s...</td>\n",
       "      <td>none</td>\n",
       "      <td>Upper Queen Anne is a charming neighborhood fu...</td>\n",
       "      <td>...</td>\n",
       "      <td>10.0</td>\n",
       "      <td>f</td>\n",
       "      <td>NaN</td>\n",
       "      <td>WASHINGTON</td>\n",
       "      <td>f</td>\n",
       "      <td>strict</td>\n",
       "      <td>f</td>\n",
       "      <td>f</td>\n",
       "      <td>2</td>\n",
       "      <td>1.15</td>\n",
       "    </tr>\n",
       "    <tr>\n",
       "      <th>3</th>\n",
       "      <td>7421966</td>\n",
       "      <td>https://www.airbnb.com/rooms/7421966</td>\n",
       "      <td>20160104002432</td>\n",
       "      <td>2016-01-04</td>\n",
       "      <td>Queen Anne Chateau</td>\n",
       "      <td>A charming apartment that sits atop Queen Anne...</td>\n",
       "      <td>NaN</td>\n",
       "      <td>A charming apartment that sits atop Queen Anne...</td>\n",
       "      <td>none</td>\n",
       "      <td>NaN</td>\n",
       "      <td>...</td>\n",
       "      <td>NaN</td>\n",
       "      <td>f</td>\n",
       "      <td>NaN</td>\n",
       "      <td>WASHINGTON</td>\n",
       "      <td>f</td>\n",
       "      <td>flexible</td>\n",
       "      <td>f</td>\n",
       "      <td>f</td>\n",
       "      <td>1</td>\n",
       "      <td>NaN</td>\n",
       "    </tr>\n",
       "    <tr>\n",
       "      <th>4</th>\n",
       "      <td>278830</td>\n",
       "      <td>https://www.airbnb.com/rooms/278830</td>\n",
       "      <td>20160104002432</td>\n",
       "      <td>2016-01-04</td>\n",
       "      <td>Charming craftsman 3 bdm house</td>\n",
       "      <td>Cozy family craftman house in beautiful neighb...</td>\n",
       "      <td>Cozy family craftman house in beautiful neighb...</td>\n",
       "      <td>Cozy family craftman house in beautiful neighb...</td>\n",
       "      <td>none</td>\n",
       "      <td>We are in the beautiful neighborhood of Queen ...</td>\n",
       "      <td>...</td>\n",
       "      <td>9.0</td>\n",
       "      <td>f</td>\n",
       "      <td>NaN</td>\n",
       "      <td>WASHINGTON</td>\n",
       "      <td>f</td>\n",
       "      <td>strict</td>\n",
       "      <td>f</td>\n",
       "      <td>f</td>\n",
       "      <td>1</td>\n",
       "      <td>0.89</td>\n",
       "    </tr>\n",
       "  </tbody>\n",
       "</table>\n",
       "<p>5 rows × 92 columns</p>\n",
       "</div>"
      ],
      "text/plain": [
       "        id                           listing_url       scrape_id last_scraped  \\\n",
       "0   241032   https://www.airbnb.com/rooms/241032  20160104002432   2016-01-04   \n",
       "1   953595   https://www.airbnb.com/rooms/953595  20160104002432   2016-01-04   \n",
       "2  3308979  https://www.airbnb.com/rooms/3308979  20160104002432   2016-01-04   \n",
       "3  7421966  https://www.airbnb.com/rooms/7421966  20160104002432   2016-01-04   \n",
       "4   278830   https://www.airbnb.com/rooms/278830  20160104002432   2016-01-04   \n",
       "\n",
       "                                  name  \\\n",
       "0         Stylish Queen Anne Apartment   \n",
       "1   Bright & Airy Queen Anne Apartment   \n",
       "2  New Modern House-Amazing water view   \n",
       "3                   Queen Anne Chateau   \n",
       "4       Charming craftsman 3 bdm house   \n",
       "\n",
       "                                             summary  \\\n",
       "0                                                NaN   \n",
       "1  Chemically sensitive? We've removed the irrita...   \n",
       "2  New modern house built in 2013.  Spectacular s...   \n",
       "3  A charming apartment that sits atop Queen Anne...   \n",
       "4  Cozy family craftman house in beautiful neighb...   \n",
       "\n",
       "                                               space  \\\n",
       "0  Make your self at home in this charming one-be...   \n",
       "1  Beautiful, hypoallergenic apartment in an extr...   \n",
       "2  Our house is modern, light and fresh with a wa...   \n",
       "3                                                NaN   \n",
       "4  Cozy family craftman house in beautiful neighb...   \n",
       "\n",
       "                                         description experiences_offered  \\\n",
       "0  Make your self at home in this charming one-be...                none   \n",
       "1  Chemically sensitive? We've removed the irrita...                none   \n",
       "2  New modern house built in 2013.  Spectacular s...                none   \n",
       "3  A charming apartment that sits atop Queen Anne...                none   \n",
       "4  Cozy family craftman house in beautiful neighb...                none   \n",
       "\n",
       "                               neighborhood_overview        ...         \\\n",
       "0                                                NaN        ...          \n",
       "1  Queen Anne is a wonderful, truly functional vi...        ...          \n",
       "2  Upper Queen Anne is a charming neighborhood fu...        ...          \n",
       "3                                                NaN        ...          \n",
       "4  We are in the beautiful neighborhood of Queen ...        ...          \n",
       "\n",
       "  review_scores_value requires_license license jurisdiction_names  \\\n",
       "0                10.0                f     NaN         WASHINGTON   \n",
       "1                10.0                f     NaN         WASHINGTON   \n",
       "2                10.0                f     NaN         WASHINGTON   \n",
       "3                 NaN                f     NaN         WASHINGTON   \n",
       "4                 9.0                f     NaN         WASHINGTON   \n",
       "\n",
       "  instant_bookable cancellation_policy  require_guest_profile_picture  \\\n",
       "0                f            moderate                              f   \n",
       "1                f              strict                              t   \n",
       "2                f              strict                              f   \n",
       "3                f            flexible                              f   \n",
       "4                f              strict                              f   \n",
       "\n",
       "  require_guest_phone_verification calculated_host_listings_count  \\\n",
       "0                                f                              2   \n",
       "1                                t                              6   \n",
       "2                                f                              2   \n",
       "3                                f                              1   \n",
       "4                                f                              1   \n",
       "\n",
       "  reviews_per_month  \n",
       "0              4.07  \n",
       "1              1.48  \n",
       "2              1.15  \n",
       "3               NaN  \n",
       "4              0.89  \n",
       "\n",
       "[5 rows x 92 columns]"
      ]
     },
     "execution_count": 3,
     "metadata": {},
     "output_type": "execute_result"
    }
   ],
   "source": [
    "listings.head()"
   ]
  },
  {
   "cell_type": "code",
   "execution_count": 4,
   "metadata": {},
   "outputs": [
    {
     "data": {
      "text/html": [
       "<div>\n",
       "<style scoped>\n",
       "    .dataframe tbody tr th:only-of-type {\n",
       "        vertical-align: middle;\n",
       "    }\n",
       "\n",
       "    .dataframe tbody tr th {\n",
       "        vertical-align: top;\n",
       "    }\n",
       "\n",
       "    .dataframe thead th {\n",
       "        text-align: right;\n",
       "    }\n",
       "</style>\n",
       "<table border=\"1\" class=\"dataframe\">\n",
       "  <thead>\n",
       "    <tr style=\"text-align: right;\">\n",
       "      <th></th>\n",
       "      <th>listing_id</th>\n",
       "      <th>id</th>\n",
       "      <th>date</th>\n",
       "      <th>reviewer_id</th>\n",
       "      <th>reviewer_name</th>\n",
       "      <th>comments</th>\n",
       "    </tr>\n",
       "  </thead>\n",
       "  <tbody>\n",
       "    <tr>\n",
       "      <th>0</th>\n",
       "      <td>7202016</td>\n",
       "      <td>38917982</td>\n",
       "      <td>2015-07-19</td>\n",
       "      <td>28943674</td>\n",
       "      <td>Bianca</td>\n",
       "      <td>Cute and cozy place. Perfect location to every...</td>\n",
       "    </tr>\n",
       "    <tr>\n",
       "      <th>1</th>\n",
       "      <td>7202016</td>\n",
       "      <td>39087409</td>\n",
       "      <td>2015-07-20</td>\n",
       "      <td>32440555</td>\n",
       "      <td>Frank</td>\n",
       "      <td>Kelly has a great room in a very central locat...</td>\n",
       "    </tr>\n",
       "    <tr>\n",
       "      <th>2</th>\n",
       "      <td>7202016</td>\n",
       "      <td>39820030</td>\n",
       "      <td>2015-07-26</td>\n",
       "      <td>37722850</td>\n",
       "      <td>Ian</td>\n",
       "      <td>Very spacious apartment, and in a great neighb...</td>\n",
       "    </tr>\n",
       "    <tr>\n",
       "      <th>3</th>\n",
       "      <td>7202016</td>\n",
       "      <td>40813543</td>\n",
       "      <td>2015-08-02</td>\n",
       "      <td>33671805</td>\n",
       "      <td>George</td>\n",
       "      <td>Close to Seattle Center and all it has to offe...</td>\n",
       "    </tr>\n",
       "    <tr>\n",
       "      <th>4</th>\n",
       "      <td>7202016</td>\n",
       "      <td>41986501</td>\n",
       "      <td>2015-08-10</td>\n",
       "      <td>34959538</td>\n",
       "      <td>Ming</td>\n",
       "      <td>Kelly was a great host and very accommodating ...</td>\n",
       "    </tr>\n",
       "  </tbody>\n",
       "</table>\n",
       "</div>"
      ],
      "text/plain": [
       "   listing_id        id        date  reviewer_id reviewer_name  \\\n",
       "0     7202016  38917982  2015-07-19     28943674        Bianca   \n",
       "1     7202016  39087409  2015-07-20     32440555         Frank   \n",
       "2     7202016  39820030  2015-07-26     37722850           Ian   \n",
       "3     7202016  40813543  2015-08-02     33671805        George   \n",
       "4     7202016  41986501  2015-08-10     34959538          Ming   \n",
       "\n",
       "                                            comments  \n",
       "0  Cute and cozy place. Perfect location to every...  \n",
       "1  Kelly has a great room in a very central locat...  \n",
       "2  Very spacious apartment, and in a great neighb...  \n",
       "3  Close to Seattle Center and all it has to offe...  \n",
       "4  Kelly was a great host and very accommodating ...  "
      ]
     },
     "execution_count": 4,
     "metadata": {},
     "output_type": "execute_result"
    }
   ],
   "source": [
    "reviews.head()"
   ]
  },
  {
   "cell_type": "code",
   "execution_count": 5,
   "metadata": {},
   "outputs": [
    {
     "name": "stdout",
     "output_type": "stream",
     "text": [
      "3818 84849\n"
     ]
    }
   ],
   "source": [
    "#Find out the size of the DataFrames\n",
    "print(len(listings), len(reviews))"
   ]
  },
  {
   "cell_type": "markdown",
   "metadata": {},
   "source": [
    "## Exploration of Listings Spreadsheet\n",
    "This section will explore significant features of the listing spreadsheet that can be related to each other. A thorough exploration of the dataset within Kaggle helped to pick out significant features based on datatypes."
   ]
  },
  {
   "cell_type": "code",
   "execution_count": 6,
   "metadata": {},
   "outputs": [
    {
     "data": {
      "text/plain": [
       "$150.00    162\n",
       "$100.00    159\n",
       "$75.00     118\n",
       "$95.00     110\n",
       "$99.00     110\n",
       "$90.00     107\n",
       "$125.00    105\n",
       "$85.00     104\n",
       "$65.00     104\n",
       "$80.00      96\n",
       "$110.00     86\n",
       "$70.00      80\n",
       "$55.00      76\n",
       "$120.00     74\n",
       "$200.00     74\n",
       "$175.00     73\n",
       "$60.00      72\n",
       "$50.00      70\n",
       "$250.00     64\n",
       "$115.00     64\n",
       "$69.00      59\n",
       "$40.00      51\n",
       "$105.00     50\n",
       "$79.00      46\n",
       "$129.00     44\n",
       "$135.00     40\n",
       "$89.00      40\n",
       "$130.00     36\n",
       "$45.00      35\n",
       "$59.00      34\n",
       "          ... \n",
       "$237.00      1\n",
       "$498.00      1\n",
       "$365.00      1\n",
       "$311.00      1\n",
       "$287.00      1\n",
       "$999.00      1\n",
       "$415.00      1\n",
       "$26.00       1\n",
       "$465.00      1\n",
       "$20.00       1\n",
       "$163.00      1\n",
       "$359.00      1\n",
       "$269.00      1\n",
       "$198.00      1\n",
       "$420.00      1\n",
       "$775.00      1\n",
       "$333.00      1\n",
       "$749.00      1\n",
       "$203.00      1\n",
       "$146.00      1\n",
       "$102.00      1\n",
       "$499.00      1\n",
       "$172.00      1\n",
       "$222.00      1\n",
       "$217.00      1\n",
       "$480.00      1\n",
       "$950.00      1\n",
       "$575.00      1\n",
       "$360.00      1\n",
       "$204.00      1\n",
       "Name: price, Length: 273, dtype: int64"
      ]
     },
     "execution_count": 6,
     "metadata": {},
     "output_type": "execute_result"
    }
   ],
   "source": [
    "#Explore listings price\n",
    "listings['price'].value_counts()"
   ]
  },
  {
   "cell_type": "code",
   "execution_count": 7,
   "metadata": {},
   "outputs": [
    {
     "name": "stdout",
     "output_type": "stream",
     "text": [
      "0.0\n",
      "0.0\n",
      "0.0\n",
      "0.0\n"
     ]
    }
   ],
   "source": [
    "# Check to see how many missing values if any exist in any rows in the listings Data Frame that are being investigated.00\n",
    "print(listings['instant_bookable'].isnull().mean())\n",
    "print(listings['cancellation_policy'].isnull().mean())\n",
    "print(listings['extra_people'].isnull().mean())\n",
    "print(listings['price'].isnull().mean())\n",
    "#calendar_drop = calendar.dropna(subset=['price'], axis=0)"
   ]
  },
  {
   "cell_type": "code",
   "execution_count": 8,
   "metadata": {},
   "outputs": [],
   "source": [
    "def clean_price (df, price):\n",
    "    '''\n",
    "    INPUT\n",
    "    df - pandas dataframe \n",
    "    price - column name of prices in the dataframe in a string format     \n",
    "    \n",
    "    OUTPUT\n",
    "    df[price] - The cleaned up column in the dataframe converted to 'float64' format\n",
    "       \n",
    "    This function cleans a price of its '$' and any commas and converts the string to a float.\n",
    "    '''   \n",
    "    for x in range(len(df)):\n",
    "        df[price][x] = df[price][x].replace('$','')\n",
    "        df[price][x] = df[price][x].replace(',','')  \n",
    "        df[price][x] = float(df[price][x])\n",
    "    return df[price]"
   ]
  },
  {
   "cell_type": "code",
   "execution_count": 9,
   "metadata": {},
   "outputs": [
    {
     "name": "stderr",
     "output_type": "stream",
     "text": [
      "C:\\Users\\audha\\Anaconda3\\lib\\site-packages\\ipykernel_launcher.py:13: SettingWithCopyWarning: \n",
      "A value is trying to be set on a copy of a slice from a DataFrame\n",
      "\n",
      "See the caveats in the documentation: http://pandas.pydata.org/pandas-docs/stable/indexing.html#indexing-view-versus-copy\n",
      "  del sys.path[0]\n",
      "C:\\Users\\audha\\Anaconda3\\lib\\site-packages\\ipykernel_launcher.py:14: SettingWithCopyWarning: \n",
      "A value is trying to be set on a copy of a slice from a DataFrame\n",
      "\n",
      "See the caveats in the documentation: http://pandas.pydata.org/pandas-docs/stable/indexing.html#indexing-view-versus-copy\n",
      "  \n",
      "C:\\Users\\audha\\Anaconda3\\lib\\site-packages\\ipykernel_launcher.py:15: SettingWithCopyWarning: \n",
      "A value is trying to be set on a copy of a slice from a DataFrame\n",
      "\n",
      "See the caveats in the documentation: http://pandas.pydata.org/pandas-docs/stable/indexing.html#indexing-view-versus-copy\n",
      "  from ipykernel import kernelapp as app\n"
     ]
    },
    {
     "data": {
      "text/plain": [
       "0        85\n",
       "1       150\n",
       "2       975\n",
       "3       100\n",
       "4       450\n",
       "5       120\n",
       "6        80\n",
       "7        60\n",
       "8        90\n",
       "9       150\n",
       "10       95\n",
       "11       99\n",
       "12      245\n",
       "13      165\n",
       "14      461\n",
       "15      109\n",
       "16       66\n",
       "17       99\n",
       "18      200\n",
       "19      700\n",
       "20      110\n",
       "21       99\n",
       "22      450\n",
       "23       75\n",
       "24      600\n",
       "25      450\n",
       "26      150\n",
       "27       45\n",
       "28      300\n",
       "29       80\n",
       "       ... \n",
       "3788    115\n",
       "3789     60\n",
       "3790    175\n",
       "3791     85\n",
       "3792    109\n",
       "3793    109\n",
       "3794    107\n",
       "3795    200\n",
       "3796     85\n",
       "3797     70\n",
       "3798     77\n",
       "3799     65\n",
       "3800    185\n",
       "3801    108\n",
       "3802    200\n",
       "3803    250\n",
       "3804    125\n",
       "3805    100\n",
       "3806    160\n",
       "3807    109\n",
       "3808    175\n",
       "3809    120\n",
       "3810    154\n",
       "3811     65\n",
       "3812     95\n",
       "3813    359\n",
       "3814     79\n",
       "3815     93\n",
       "3816     99\n",
       "3817     87\n",
       "Name: price_cleansed, Length: 3818, dtype: object"
      ]
     },
     "execution_count": 9,
     "metadata": {},
     "output_type": "execute_result"
    }
   ],
   "source": [
    "#Clean the prices in the 'listings' DataFrame\n",
    "listings['price_cleansed'] = clean_price(listings, 'price')\n",
    "listings['price_cleansed']"
   ]
  },
  {
   "cell_type": "code",
   "execution_count": 10,
   "metadata": {},
   "outputs": [
    {
     "data": {
      "text/plain": [
       "strict      1417\n",
       "moderate    1251\n",
       "flexible    1150\n",
       "Name: cancellation_policy, dtype: int64"
      ]
     },
     "execution_count": 10,
     "metadata": {},
     "output_type": "execute_result"
    }
   ],
   "source": [
    "#Exploring different columns of 'listings'\n",
    "listings['cancellation_policy'].value_counts()"
   ]
  },
  {
   "cell_type": "code",
   "execution_count": 11,
   "metadata": {},
   "outputs": [
    {
     "data": {
      "text/plain": [
       "154.5970359915314"
      ]
     },
     "execution_count": 11,
     "metadata": {},
     "output_type": "execute_result"
    }
   ],
   "source": [
    "# Determine whether a strict cancellation policy is correlated with price\n",
    "strict = listings[listings.cancellation_policy == 'strict'][['cancellation_policy','price_cleansed']]\n",
    "strict['price_cleansed'].mean()"
   ]
  },
  {
   "cell_type": "code",
   "execution_count": 12,
   "metadata": {},
   "outputs": [
    {
     "data": {
      "text/plain": [
       "114.77537969624301"
      ]
     },
     "execution_count": 12,
     "metadata": {},
     "output_type": "execute_result"
    }
   ],
   "source": [
    "moderate = listings[listings.cancellation_policy == 'moderate'][['cancellation_policy','price_cleansed']]\n",
    "moderate['price_cleansed'].mean()"
   ]
  },
  {
   "cell_type": "code",
   "execution_count": 13,
   "metadata": {},
   "outputs": [
    {
     "data": {
      "text/plain": [
       "109.53478260869565"
      ]
     },
     "execution_count": 13,
     "metadata": {},
     "output_type": "execute_result"
    }
   ],
   "source": [
    "flexible = listings[listings.cancellation_policy == 'flexible'][['cancellation_policy','price_cleansed']]\n",
    "flexible['price_cleansed'].mean()"
   ]
  },
  {
   "cell_type": "code",
   "execution_count": 14,
   "metadata": {},
   "outputs": [],
   "source": [
    "def cancellation_instant_bookable_relation (df, t_or_f, category):\n",
    "    '''\n",
    "    INPUT\n",
    "    df - pandas dataframe \n",
    "    t_or_f - value of 't' if instantly bookable or 'f' if not\n",
    "    category - for cancellation policy column - strict, moderate, flexible\n",
    "    \n",
    "    OUTPUT\n",
    "    Mean price of all items that mean the conditions of the query\n",
    "       \n",
    "    This function determines the mean price of AirBnBs based on the relationship between the AirBnB\n",
    "    being instantly bookable and its cancellation policy.\n",
    "    '''   \n",
    "    relationship = df[(df.instant_bookable == t_or_f) & (df.cancellation_policy == category)][['cancellation_policy','price_cleansed']]\n",
    "    return relationship['price_cleansed'].mean()\n"
   ]
  },
  {
   "cell_type": "code",
   "execution_count": 15,
   "metadata": {},
   "outputs": [
    {
     "name": "stdout",
     "output_type": "stream",
     "text": [
      "[144.32751091703057, 109.58189655172414, 101.6]\n",
      "[156.57659932659934, 115.95780176643768, 110.54607843137255]\n"
     ]
    }
   ],
   "source": [
    "# Use combinations of categories of cancellation policy and instant booking and create lists of bookable and\n",
    "# not bookable of prices for each cancellation policy \n",
    "bookable = [cancellation_instant_bookable_relation(listings,'t','strict'),\n",
    "            cancellation_instant_bookable_relation(listings,'t','moderate'),\n",
    "            cancellation_instant_bookable_relation(listings,'t','flexible')]\n",
    "not_bookable = [cancellation_instant_bookable_relation(listings,'f','strict'),\n",
    "                cancellation_instant_bookable_relation(listings,'f','moderate'),    \n",
    "                cancellation_instant_bookable_relation(listings,'f','flexible')]\n",
    "print(bookable)\n",
    "print(not_bookable)"
   ]
  },
  {
   "cell_type": "code",
   "execution_count": 16,
   "metadata": {},
   "outputs": [
    {
     "name": "stdout",
     "output_type": "stream",
     "text": [
      "127.97616553169199\n"
     ]
    }
   ],
   "source": [
    "print(listings['price_cleansed'].mean())"
   ]
  },
  {
   "cell_type": "code",
   "execution_count": 17,
   "metadata": {
    "scrolled": true
   },
   "outputs": [
    {
     "data": {
      "text/plain": [
       "$0.00      2048\n",
       "$10.00      355\n",
       "$25.00      322\n",
       "$15.00      309\n",
       "$20.00      308\n",
       "$50.00      113\n",
       "$30.00       85\n",
       "$5.00        58\n",
       "$40.00       39\n",
       "$35.00       35\n",
       "$100.00      16\n",
       "$75.00       14\n",
       "$7.00        12\n",
       "$45.00       10\n",
       "$29.00        9\n",
       "$8.00         8\n",
       "$12.00        8\n",
       "$60.00        8\n",
       "$18.00        6\n",
       "$17.00        6\n",
       "$19.00        5\n",
       "$9.00         5\n",
       "$14.00        4\n",
       "$6.00         4\n",
       "$55.00        3\n",
       "$80.00        3\n",
       "$28.00        3\n",
       "$49.00        2\n",
       "$300.00       2\n",
       "$200.00       2\n",
       "$22.00        2\n",
       "$48.00        1\n",
       "$85.00        1\n",
       "$16.00        1\n",
       "$13.00        1\n",
       "$71.00        1\n",
       "$250.00       1\n",
       "$33.00        1\n",
       "$44.00        1\n",
       "$175.00       1\n",
       "$26.00        1\n",
       "$27.00        1\n",
       "$21.00        1\n",
       "$36.00        1\n",
       "$68.00        1\n",
       "Name: extra_people, dtype: int64"
      ]
     },
     "execution_count": 17,
     "metadata": {},
     "output_type": "execute_result"
    }
   ],
   "source": [
    "listings['extra_people'].value_counts()"
   ]
  },
  {
   "cell_type": "code",
   "execution_count": 18,
   "metadata": {},
   "outputs": [
    {
     "name": "stderr",
     "output_type": "stream",
     "text": [
      "C:\\Users\\audha\\Anaconda3\\lib\\site-packages\\ipykernel_launcher.py:13: SettingWithCopyWarning: \n",
      "A value is trying to be set on a copy of a slice from a DataFrame\n",
      "\n",
      "See the caveats in the documentation: http://pandas.pydata.org/pandas-docs/stable/indexing.html#indexing-view-versus-copy\n",
      "  del sys.path[0]\n",
      "C:\\Users\\audha\\Anaconda3\\lib\\site-packages\\ipykernel_launcher.py:14: SettingWithCopyWarning: \n",
      "A value is trying to be set on a copy of a slice from a DataFrame\n",
      "\n",
      "See the caveats in the documentation: http://pandas.pydata.org/pandas-docs/stable/indexing.html#indexing-view-versus-copy\n",
      "  \n",
      "C:\\Users\\audha\\Anaconda3\\lib\\site-packages\\ipykernel_launcher.py:15: SettingWithCopyWarning: \n",
      "A value is trying to be set on a copy of a slice from a DataFrame\n",
      "\n",
      "See the caveats in the documentation: http://pandas.pydata.org/pandas-docs/stable/indexing.html#indexing-view-versus-copy\n",
      "  from ipykernel import kernelapp as app\n"
     ]
    },
    {
     "name": "stdout",
     "output_type": "stream",
     "text": [
      "0        5\n",
      "1        0\n",
      "2       25\n",
      "3        0\n",
      "4       15\n",
      "5       30\n",
      "6       10\n",
      "7        0\n",
      "8        0\n",
      "9        0\n",
      "10      15\n",
      "11       0\n",
      "12       0\n",
      "13      20\n",
      "14      50\n",
      "15       0\n",
      "16      25\n",
      "17       0\n",
      "18       0\n",
      "19       0\n",
      "20       0\n",
      "21      10\n",
      "22       0\n",
      "23       0\n",
      "24       0\n",
      "25      50\n",
      "26       0\n",
      "27       0\n",
      "28       0\n",
      "29      50\n",
      "        ..\n",
      "3788    12\n",
      "3789    25\n",
      "3790    30\n",
      "3791     0\n",
      "3792     0\n",
      "3793    30\n",
      "3794    30\n",
      "3795     0\n",
      "3796     0\n",
      "3797    20\n",
      "3798    15\n",
      "3799     0\n",
      "3800     0\n",
      "3801    10\n",
      "3802     0\n",
      "3803    25\n",
      "3804     0\n",
      "3805    20\n",
      "3806     0\n",
      "3807     0\n",
      "3808    30\n",
      "3809     0\n",
      "3810    50\n",
      "3811     0\n",
      "3812     8\n",
      "3813     0\n",
      "3814    25\n",
      "3815    20\n",
      "3816     0\n",
      "3817     0\n",
      "Name: extra_people_cleansed, Length: 3818, dtype: object\n"
     ]
    }
   ],
   "source": [
    "# Clean extra_people column prices\n",
    "listings['extra_people_cleansed'] = clean_price(listings,'extra_people')\n",
    "print(listings['extra_people_cleansed'])\n"
   ]
  },
  {
   "cell_type": "code",
   "execution_count": 19,
   "metadata": {},
   "outputs": [
    {
     "data": {
      "text/plain": [
       "10.667627029858565"
      ]
     },
     "execution_count": 19,
     "metadata": {},
     "output_type": "execute_result"
    }
   ],
   "source": [
    "listings['extra_people_cleansed'].mean()"
   ]
  },
  {
   "cell_type": "code",
   "execution_count": 20,
   "metadata": {},
   "outputs": [],
   "source": [
    "# Create DataFrames with Cancellation policy and extra people prices as columns where all the items have the\n",
    "# same cancellation policy then find the average price for each cancellation policy and append to a list.\n",
    "extra_people_price = []"
   ]
  },
  {
   "cell_type": "code",
   "execution_count": 21,
   "metadata": {},
   "outputs": [],
   "source": [
    "extra_people_strict = listings[listings.cancellation_policy == 'strict'][['cancellation_policy','extra_people_cleansed']]\n",
    "extra_people_price.append(extra_people_strict['extra_people_cleansed'].mean())"
   ]
  },
  {
   "cell_type": "code",
   "execution_count": 22,
   "metadata": {},
   "outputs": [],
   "source": [
    "extra_people_moderate = listings[listings.cancellation_policy == 'moderate'][['cancellation_policy','extra_people_cleansed']]\n",
    "extra_people_price.append(extra_people_moderate['extra_people_cleansed'].mean())"
   ]
  },
  {
   "cell_type": "code",
   "execution_count": 23,
   "metadata": {},
   "outputs": [],
   "source": [
    "extra_people_flexible = listings[listings.cancellation_policy == 'flexible'][['cancellation_policy','extra_people_cleansed']]\n",
    "extra_people_price.append(extra_people_flexible['extra_people_cleansed'].mean())"
   ]
  },
  {
   "cell_type": "code",
   "execution_count": 24,
   "metadata": {},
   "outputs": [
    {
     "name": "stdout",
     "output_type": "stream",
     "text": [
      "3\n"
     ]
    }
   ],
   "source": [
    "print(len(bookable))"
   ]
  },
  {
   "cell_type": "code",
   "execution_count": 25,
   "metadata": {
    "scrolled": true
   },
   "outputs": [
    {
     "data": {
      "image/png": "[encoded data removed]",
      "text/plain": [
       "<Figure size 432x288 with 1 Axes>"
      ]
     },
     "metadata": {
      "needs_background": "light"
     },
     "output_type": "display_data"
    }
   ],
   "source": [
    "# Graph out the average Instantly Bookable AirBnB Prices based on Cancellation Policy and save graph to file.\n",
    "ind = np.arange(len(bookable))  # the x locations for the groups\n",
    "width = 0.35  # the width of the bars\n",
    "\n",
    "fig, ax = plt.subplots()\n",
    "rects1 = ax.bar(ind - width/2, bookable, width, color='SkyBlue', label='Instantly Bookable')\n",
    "rects2 = ax.bar(ind + width/2, not_bookable, width, color='IndianRed', label='Not Instantly Bookable')\n",
    "rects3 = ax.bar(ind + width/2, extra_people_price, width, color = 'LightGreen', label = 'Extra People')\n",
    "# Add some text for labels, title and custom x-axis tick labels, etc.\n",
    "ax.set_ylabel('Average Price $')\n",
    "ax.set_title('Instantly Bookable AirBnB Prices Based on Cancellation Policy')\n",
    "ax.set_xticks(ind)\n",
    "ax.set_xticklabels(('Strict', 'Moderate', 'Flexible'))\n",
    "ax.legend()\n",
    "plt.savefig('bookable_output.png')"
   ]
  },
  {
   "cell_type": "code",
   "execution_count": 26,
   "metadata": {},
   "outputs": [
    {
     "data": {
      "text/plain": [
       "cancellation_policy\n",
       "flexible    2.721739\n",
       "moderate    3.110312\n",
       "strict      4.069866\n",
       "Name: accommodates, dtype: float64"
      ]
     },
     "execution_count": 26,
     "metadata": {},
     "output_type": "execute_result"
    }
   ],
   "source": [
    "# Explore how categoreis of cancellation policy and number AirBnB accommodates relate to each other.\n",
    "listings.groupby(['cancellation_policy'])['accommodates'].mean()"
   ]
  },
  {
   "cell_type": "code",
   "execution_count": 27,
   "metadata": {},
   "outputs": [
    {
     "data": {
      "text/plain": [
       "instant_bookable\n",
       "f    3.328788\n",
       "t    3.461929\n",
       "Name: accommodates, dtype: float64"
      ]
     },
     "execution_count": 27,
     "metadata": {},
     "output_type": "execute_result"
    }
   ],
   "source": [
    "# Explore how categories of instant_bookable and number AirBnB accommodates relate to each other\n",
    "listings.groupby(['instant_bookable'])['accommodates'].mean()"
   ]
  },
  {
   "cell_type": "code",
   "execution_count": 28,
   "metadata": {},
   "outputs": [
    {
     "data": {
      "text/plain": [
       "100.0    781\n",
       "98.0     292\n",
       "96.0     278\n",
       "97.0     266\n",
       "95.0     260\n",
       "94.0     198\n",
       "93.0     184\n",
       "99.0     146\n",
       "90.0     138\n",
       "80.0     111\n",
       "92.0     105\n",
       "91.0      97\n",
       "87.0      55\n",
       "89.0      53\n",
       "88.0      47\n",
       "85.0      24\n",
       "84.0      23\n",
       "86.0      17\n",
       "83.0      13\n",
       "60.0      12\n",
       "82.0      10\n",
       "70.0       8\n",
       "73.0       7\n",
       "76.0       5\n",
       "72.0       4\n",
       "78.0       4\n",
       "77.0       4\n",
       "40.0       4\n",
       "75.0       3\n",
       "71.0       3\n",
       "81.0       3\n",
       "68.0       2\n",
       "74.0       2\n",
       "67.0       2\n",
       "79.0       2\n",
       "66.0       2\n",
       "64.0       1\n",
       "20.0       1\n",
       "53.0       1\n",
       "65.0       1\n",
       "55.0       1\n",
       "57.0       1\n",
       "Name: review_scores_rating, dtype: int64"
      ]
     },
     "execution_count": 28,
     "metadata": {},
     "output_type": "execute_result"
    }
   ],
   "source": [
    "# Explore general review scores\n",
    "listings['review_scores_rating'].value_counts()"
   ]
  },
  {
   "cell_type": "code",
   "execution_count": 29,
   "metadata": {
    "scrolled": true
   },
   "outputs": [
    {
     "name": "stdout",
     "output_type": "stream",
     "text": [
      "Float64Index([ 20.0,  40.0,  53.0,  55.0,  57.0,  60.0,  64.0,  65.0,  66.0,\n",
      "               67.0,  68.0,  70.0,  71.0,  72.0,  73.0,  74.0,  75.0,  76.0,\n",
      "               77.0,  78.0,  79.0,  80.0,  81.0,  82.0,  83.0,  84.0,  85.0,\n",
      "               86.0,  87.0,  88.0,  89.0,  90.0,  91.0,  92.0,  93.0,  94.0,\n",
      "               95.0,  96.0,  97.0,  98.0,  99.0, 100.0],\n",
      "             dtype='float64', name='review_scores_rating')\n",
      "[2.0, 2.5, 8.0, 3.0, 2.0, 3.9166666666666665, 4.0, 1.0, 3.5, 3.0, 4.5, 2.5, 5.0, 4.0, 3.5714285714285716, 2.0, 4.333333333333333, 3.8, 4.0, 3.0, 2.0, 3.3963963963963963, 2.3333333333333335, 3.3, 3.4615384615384617, 4.565217391304348, 3.7916666666666665, 2.9411764705882355, 3.4545454545454546, 3.9574468085106385, 3.018867924528302, 3.6449275362318843, 3.268041237113402, 3.361904761904762, 3.5434782608695654, 3.257575757575758, 3.2423076923076923, 3.366906474820144, 3.300751879699248, 3.1746575342465753, 2.910958904109589, 3.541613316261204]\n"
     ]
    }
   ],
   "source": [
    "# See how review scores relate to the number of people an AirBnB accommodates\n",
    "rating_to_accommodate = listings.groupby(['review_scores_rating'])['accommodates'].mean()\n",
    "ratings = []\n",
    "for x in rating_to_accommodate:\n",
    "    ratings.append(x)\n",
    "print(rating_to_accommodate.index)\n",
    "print(ratings)"
   ]
  },
  {
   "cell_type": "code",
   "execution_count": 30,
   "metadata": {},
   "outputs": [
    {
     "data": {
      "image/png": "[encoded data removed]",
      "text/plain": [
       "<Figure size 432x288 with 1 Axes>"
      ]
     },
     "metadata": {
      "needs_background": "light"
     },
     "output_type": "display_data"
    }
   ],
   "source": [
    "# Create a scatter plot of rating percentage with accommodates\n",
    "df1 = pd.DataFrame({'accommodates': ratings, 'percentage': rating_to_accommodate.index})\n",
    "ax2 = df1.plot.scatter(x='percentage', y='accommodates')\n",
    "plt.savefig('scatter.png')"
   ]
  },
  {
   "cell_type": "markdown",
   "metadata": {},
   "source": [
    "## Exploring the Calendar dataset\n",
    "Clean up the calendar of date and prices then determine most expensive time of year to visit Seattle."
   ]
  },
  {
   "cell_type": "code",
   "execution_count": 31,
   "metadata": {},
   "outputs": [],
   "source": [
    "# Clean calendar of all missing values since percentage of missing values is very low.\n",
    "calendar['price'].isnull().mean()\n",
    "calendar_drop = calendar.dropna(subset=['price'], axis=0)"
   ]
  },
  {
   "cell_type": "code",
   "execution_count": 32,
   "metadata": {},
   "outputs": [],
   "source": [
    "# Reset index of new DataFrame\n",
    "calendar_drop = calendar_drop.reset_index(drop=True)"
   ]
  },
  {
   "cell_type": "code",
   "execution_count": 33,
   "metadata": {},
   "outputs": [
    {
     "data": {
      "text/plain": [
       "(934542, 4)"
      ]
     },
     "execution_count": 33,
     "metadata": {},
     "output_type": "execute_result"
    }
   ],
   "source": [
    "# Verify new index and no missing values\n",
    "calendar_drop['price'].isnull().mean()\n",
    "calendar_drop.shape"
   ]
  },
  {
   "cell_type": "code",
   "execution_count": 34,
   "metadata": {
    "scrolled": true
   },
   "outputs": [
    {
     "data": {
      "text/html": [
       "<div>\n",
       "<style scoped>\n",
       "    .dataframe tbody tr th:only-of-type {\n",
       "        vertical-align: middle;\n",
       "    }\n",
       "\n",
       "    .dataframe tbody tr th {\n",
       "        vertical-align: top;\n",
       "    }\n",
       "\n",
       "    .dataframe thead th {\n",
       "        text-align: right;\n",
       "    }\n",
       "</style>\n",
       "<table border=\"1\" class=\"dataframe\">\n",
       "  <thead>\n",
       "    <tr style=\"text-align: right;\">\n",
       "      <th></th>\n",
       "      <th>listing_id</th>\n",
       "      <th>date</th>\n",
       "      <th>available</th>\n",
       "      <th>price</th>\n",
       "    </tr>\n",
       "  </thead>\n",
       "  <tbody>\n",
       "    <tr>\n",
       "      <th>0</th>\n",
       "      <td>241032</td>\n",
       "      <td>2016-01-04</td>\n",
       "      <td>t</td>\n",
       "      <td>$85.00</td>\n",
       "    </tr>\n",
       "    <tr>\n",
       "      <th>1</th>\n",
       "      <td>241032</td>\n",
       "      <td>2016-01-05</td>\n",
       "      <td>t</td>\n",
       "      <td>$85.00</td>\n",
       "    </tr>\n",
       "    <tr>\n",
       "      <th>2</th>\n",
       "      <td>241032</td>\n",
       "      <td>2016-01-13</td>\n",
       "      <td>t</td>\n",
       "      <td>$85.00</td>\n",
       "    </tr>\n",
       "    <tr>\n",
       "      <th>3</th>\n",
       "      <td>241032</td>\n",
       "      <td>2016-01-14</td>\n",
       "      <td>t</td>\n",
       "      <td>$85.00</td>\n",
       "    </tr>\n",
       "    <tr>\n",
       "      <th>4</th>\n",
       "      <td>241032</td>\n",
       "      <td>2016-01-18</td>\n",
       "      <td>t</td>\n",
       "      <td>$85.00</td>\n",
       "    </tr>\n",
       "    <tr>\n",
       "      <th>5</th>\n",
       "      <td>241032</td>\n",
       "      <td>2016-01-19</td>\n",
       "      <td>t</td>\n",
       "      <td>$85.00</td>\n",
       "    </tr>\n",
       "    <tr>\n",
       "      <th>6</th>\n",
       "      <td>241032</td>\n",
       "      <td>2016-01-20</td>\n",
       "      <td>t</td>\n",
       "      <td>$85.00</td>\n",
       "    </tr>\n",
       "    <tr>\n",
       "      <th>7</th>\n",
       "      <td>241032</td>\n",
       "      <td>2016-01-24</td>\n",
       "      <td>t</td>\n",
       "      <td>$85.00</td>\n",
       "    </tr>\n",
       "    <tr>\n",
       "      <th>8</th>\n",
       "      <td>241032</td>\n",
       "      <td>2016-01-25</td>\n",
       "      <td>t</td>\n",
       "      <td>$85.00</td>\n",
       "    </tr>\n",
       "    <tr>\n",
       "      <th>9</th>\n",
       "      <td>241032</td>\n",
       "      <td>2016-01-26</td>\n",
       "      <td>t</td>\n",
       "      <td>$85.00</td>\n",
       "    </tr>\n",
       "    <tr>\n",
       "      <th>10</th>\n",
       "      <td>241032</td>\n",
       "      <td>2016-01-27</td>\n",
       "      <td>t</td>\n",
       "      <td>$85.00</td>\n",
       "    </tr>\n",
       "    <tr>\n",
       "      <th>11</th>\n",
       "      <td>241032</td>\n",
       "      <td>2016-01-28</td>\n",
       "      <td>t</td>\n",
       "      <td>$85.00</td>\n",
       "    </tr>\n",
       "    <tr>\n",
       "      <th>12</th>\n",
       "      <td>241032</td>\n",
       "      <td>2016-02-01</td>\n",
       "      <td>t</td>\n",
       "      <td>$85.00</td>\n",
       "    </tr>\n",
       "    <tr>\n",
       "      <th>13</th>\n",
       "      <td>241032</td>\n",
       "      <td>2016-02-02</td>\n",
       "      <td>t</td>\n",
       "      <td>$85.00</td>\n",
       "    </tr>\n",
       "    <tr>\n",
       "      <th>14</th>\n",
       "      <td>241032</td>\n",
       "      <td>2016-02-03</td>\n",
       "      <td>t</td>\n",
       "      <td>$85.00</td>\n",
       "    </tr>\n",
       "    <tr>\n",
       "      <th>15</th>\n",
       "      <td>241032</td>\n",
       "      <td>2016-02-04</td>\n",
       "      <td>t</td>\n",
       "      <td>$85.00</td>\n",
       "    </tr>\n",
       "    <tr>\n",
       "      <th>16</th>\n",
       "      <td>241032</td>\n",
       "      <td>2016-02-05</td>\n",
       "      <td>t</td>\n",
       "      <td>$85.00</td>\n",
       "    </tr>\n",
       "    <tr>\n",
       "      <th>17</th>\n",
       "      <td>241032</td>\n",
       "      <td>2016-02-06</td>\n",
       "      <td>t</td>\n",
       "      <td>$85.00</td>\n",
       "    </tr>\n",
       "    <tr>\n",
       "      <th>18</th>\n",
       "      <td>241032</td>\n",
       "      <td>2016-02-07</td>\n",
       "      <td>t</td>\n",
       "      <td>$85.00</td>\n",
       "    </tr>\n",
       "    <tr>\n",
       "      <th>19</th>\n",
       "      <td>241032</td>\n",
       "      <td>2016-02-08</td>\n",
       "      <td>t</td>\n",
       "      <td>$85.00</td>\n",
       "    </tr>\n",
       "    <tr>\n",
       "      <th>20</th>\n",
       "      <td>241032</td>\n",
       "      <td>2016-02-09</td>\n",
       "      <td>t</td>\n",
       "      <td>$85.00</td>\n",
       "    </tr>\n",
       "    <tr>\n",
       "      <th>21</th>\n",
       "      <td>241032</td>\n",
       "      <td>2016-02-10</td>\n",
       "      <td>t</td>\n",
       "      <td>$85.00</td>\n",
       "    </tr>\n",
       "    <tr>\n",
       "      <th>22</th>\n",
       "      <td>241032</td>\n",
       "      <td>2016-02-14</td>\n",
       "      <td>t</td>\n",
       "      <td>$85.00</td>\n",
       "    </tr>\n",
       "    <tr>\n",
       "      <th>23</th>\n",
       "      <td>241032</td>\n",
       "      <td>2016-02-15</td>\n",
       "      <td>t</td>\n",
       "      <td>$85.00</td>\n",
       "    </tr>\n",
       "    <tr>\n",
       "      <th>24</th>\n",
       "      <td>241032</td>\n",
       "      <td>2016-02-16</td>\n",
       "      <td>t</td>\n",
       "      <td>$85.00</td>\n",
       "    </tr>\n",
       "    <tr>\n",
       "      <th>25</th>\n",
       "      <td>241032</td>\n",
       "      <td>2016-02-17</td>\n",
       "      <td>t</td>\n",
       "      <td>$85.00</td>\n",
       "    </tr>\n",
       "    <tr>\n",
       "      <th>26</th>\n",
       "      <td>241032</td>\n",
       "      <td>2016-02-18</td>\n",
       "      <td>t</td>\n",
       "      <td>$85.00</td>\n",
       "    </tr>\n",
       "    <tr>\n",
       "      <th>27</th>\n",
       "      <td>241032</td>\n",
       "      <td>2016-02-19</td>\n",
       "      <td>t</td>\n",
       "      <td>$85.00</td>\n",
       "    </tr>\n",
       "    <tr>\n",
       "      <th>28</th>\n",
       "      <td>241032</td>\n",
       "      <td>2016-02-20</td>\n",
       "      <td>t</td>\n",
       "      <td>$85.00</td>\n",
       "    </tr>\n",
       "    <tr>\n",
       "      <th>29</th>\n",
       "      <td>241032</td>\n",
       "      <td>2016-02-21</td>\n",
       "      <td>t</td>\n",
       "      <td>$85.00</td>\n",
       "    </tr>\n",
       "    <tr>\n",
       "      <th>...</th>\n",
       "      <td>...</td>\n",
       "      <td>...</td>\n",
       "      <td>...</td>\n",
       "      <td>...</td>\n",
       "    </tr>\n",
       "    <tr>\n",
       "      <th>934512</th>\n",
       "      <td>9604740</td>\n",
       "      <td>2016-06-08</td>\n",
       "      <td>t</td>\n",
       "      <td>$99.00</td>\n",
       "    </tr>\n",
       "    <tr>\n",
       "      <th>934513</th>\n",
       "      <td>9604740</td>\n",
       "      <td>2016-06-09</td>\n",
       "      <td>t</td>\n",
       "      <td>$99.00</td>\n",
       "    </tr>\n",
       "    <tr>\n",
       "      <th>934514</th>\n",
       "      <td>9604740</td>\n",
       "      <td>2016-06-10</td>\n",
       "      <td>t</td>\n",
       "      <td>$99.00</td>\n",
       "    </tr>\n",
       "    <tr>\n",
       "      <th>934515</th>\n",
       "      <td>9604740</td>\n",
       "      <td>2016-06-11</td>\n",
       "      <td>t</td>\n",
       "      <td>$99.00</td>\n",
       "    </tr>\n",
       "    <tr>\n",
       "      <th>934516</th>\n",
       "      <td>9604740</td>\n",
       "      <td>2016-06-12</td>\n",
       "      <td>t</td>\n",
       "      <td>$99.00</td>\n",
       "    </tr>\n",
       "    <tr>\n",
       "      <th>934517</th>\n",
       "      <td>9604740</td>\n",
       "      <td>2016-06-13</td>\n",
       "      <td>t</td>\n",
       "      <td>$99.00</td>\n",
       "    </tr>\n",
       "    <tr>\n",
       "      <th>934518</th>\n",
       "      <td>9604740</td>\n",
       "      <td>2016-06-14</td>\n",
       "      <td>t</td>\n",
       "      <td>$99.00</td>\n",
       "    </tr>\n",
       "    <tr>\n",
       "      <th>934519</th>\n",
       "      <td>9604740</td>\n",
       "      <td>2016-06-15</td>\n",
       "      <td>t</td>\n",
       "      <td>$99.00</td>\n",
       "    </tr>\n",
       "    <tr>\n",
       "      <th>934520</th>\n",
       "      <td>9604740</td>\n",
       "      <td>2016-06-16</td>\n",
       "      <td>t</td>\n",
       "      <td>$99.00</td>\n",
       "    </tr>\n",
       "    <tr>\n",
       "      <th>934521</th>\n",
       "      <td>9604740</td>\n",
       "      <td>2016-06-17</td>\n",
       "      <td>t</td>\n",
       "      <td>$99.00</td>\n",
       "    </tr>\n",
       "    <tr>\n",
       "      <th>934522</th>\n",
       "      <td>9604740</td>\n",
       "      <td>2016-06-18</td>\n",
       "      <td>t</td>\n",
       "      <td>$99.00</td>\n",
       "    </tr>\n",
       "    <tr>\n",
       "      <th>934523</th>\n",
       "      <td>9604740</td>\n",
       "      <td>2016-06-19</td>\n",
       "      <td>t</td>\n",
       "      <td>$99.00</td>\n",
       "    </tr>\n",
       "    <tr>\n",
       "      <th>934524</th>\n",
       "      <td>9604740</td>\n",
       "      <td>2016-06-20</td>\n",
       "      <td>t</td>\n",
       "      <td>$99.00</td>\n",
       "    </tr>\n",
       "    <tr>\n",
       "      <th>934525</th>\n",
       "      <td>9604740</td>\n",
       "      <td>2016-06-21</td>\n",
       "      <td>t</td>\n",
       "      <td>$99.00</td>\n",
       "    </tr>\n",
       "    <tr>\n",
       "      <th>934526</th>\n",
       "      <td>9604740</td>\n",
       "      <td>2016-06-22</td>\n",
       "      <td>t</td>\n",
       "      <td>$99.00</td>\n",
       "    </tr>\n",
       "    <tr>\n",
       "      <th>934527</th>\n",
       "      <td>9604740</td>\n",
       "      <td>2016-06-23</td>\n",
       "      <td>t</td>\n",
       "      <td>$99.00</td>\n",
       "    </tr>\n",
       "    <tr>\n",
       "      <th>934528</th>\n",
       "      <td>9604740</td>\n",
       "      <td>2016-06-24</td>\n",
       "      <td>t</td>\n",
       "      <td>$99.00</td>\n",
       "    </tr>\n",
       "    <tr>\n",
       "      <th>934529</th>\n",
       "      <td>9604740</td>\n",
       "      <td>2016-06-25</td>\n",
       "      <td>t</td>\n",
       "      <td>$99.00</td>\n",
       "    </tr>\n",
       "    <tr>\n",
       "      <th>934530</th>\n",
       "      <td>9604740</td>\n",
       "      <td>2016-06-26</td>\n",
       "      <td>t</td>\n",
       "      <td>$99.00</td>\n",
       "    </tr>\n",
       "    <tr>\n",
       "      <th>934531</th>\n",
       "      <td>9604740</td>\n",
       "      <td>2016-06-27</td>\n",
       "      <td>t</td>\n",
       "      <td>$99.00</td>\n",
       "    </tr>\n",
       "    <tr>\n",
       "      <th>934532</th>\n",
       "      <td>9604740</td>\n",
       "      <td>2016-06-28</td>\n",
       "      <td>t</td>\n",
       "      <td>$99.00</td>\n",
       "    </tr>\n",
       "    <tr>\n",
       "      <th>934533</th>\n",
       "      <td>9604740</td>\n",
       "      <td>2016-06-29</td>\n",
       "      <td>t</td>\n",
       "      <td>$99.00</td>\n",
       "    </tr>\n",
       "    <tr>\n",
       "      <th>934534</th>\n",
       "      <td>9604740</td>\n",
       "      <td>2016-06-30</td>\n",
       "      <td>t</td>\n",
       "      <td>$99.00</td>\n",
       "    </tr>\n",
       "    <tr>\n",
       "      <th>934535</th>\n",
       "      <td>10208623</td>\n",
       "      <td>2016-01-04</td>\n",
       "      <td>t</td>\n",
       "      <td>$87.00</td>\n",
       "    </tr>\n",
       "    <tr>\n",
       "      <th>934536</th>\n",
       "      <td>10208623</td>\n",
       "      <td>2016-01-05</td>\n",
       "      <td>t</td>\n",
       "      <td>$87.00</td>\n",
       "    </tr>\n",
       "    <tr>\n",
       "      <th>934537</th>\n",
       "      <td>10208623</td>\n",
       "      <td>2016-01-06</td>\n",
       "      <td>t</td>\n",
       "      <td>$87.00</td>\n",
       "    </tr>\n",
       "    <tr>\n",
       "      <th>934538</th>\n",
       "      <td>10208623</td>\n",
       "      <td>2016-01-07</td>\n",
       "      <td>t</td>\n",
       "      <td>$87.00</td>\n",
       "    </tr>\n",
       "    <tr>\n",
       "      <th>934539</th>\n",
       "      <td>10208623</td>\n",
       "      <td>2016-01-10</td>\n",
       "      <td>t</td>\n",
       "      <td>$87.00</td>\n",
       "    </tr>\n",
       "    <tr>\n",
       "      <th>934540</th>\n",
       "      <td>10208623</td>\n",
       "      <td>2016-01-11</td>\n",
       "      <td>t</td>\n",
       "      <td>$87.00</td>\n",
       "    </tr>\n",
       "    <tr>\n",
       "      <th>934541</th>\n",
       "      <td>10208623</td>\n",
       "      <td>2016-01-12</td>\n",
       "      <td>t</td>\n",
       "      <td>$87.00</td>\n",
       "    </tr>\n",
       "  </tbody>\n",
       "</table>\n",
       "<p>934542 rows × 4 columns</p>\n",
       "</div>"
      ],
      "text/plain": [
       "        listing_id        date available   price\n",
       "0           241032  2016-01-04         t  $85.00\n",
       "1           241032  2016-01-05         t  $85.00\n",
       "2           241032  2016-01-13         t  $85.00\n",
       "3           241032  2016-01-14         t  $85.00\n",
       "4           241032  2016-01-18         t  $85.00\n",
       "5           241032  2016-01-19         t  $85.00\n",
       "6           241032  2016-01-20         t  $85.00\n",
       "7           241032  2016-01-24         t  $85.00\n",
       "8           241032  2016-01-25         t  $85.00\n",
       "9           241032  2016-01-26         t  $85.00\n",
       "10          241032  2016-01-27         t  $85.00\n",
       "11          241032  2016-01-28         t  $85.00\n",
       "12          241032  2016-02-01         t  $85.00\n",
       "13          241032  2016-02-02         t  $85.00\n",
       "14          241032  2016-02-03         t  $85.00\n",
       "15          241032  2016-02-04         t  $85.00\n",
       "16          241032  2016-02-05         t  $85.00\n",
       "17          241032  2016-02-06         t  $85.00\n",
       "18          241032  2016-02-07         t  $85.00\n",
       "19          241032  2016-02-08         t  $85.00\n",
       "20          241032  2016-02-09         t  $85.00\n",
       "21          241032  2016-02-10         t  $85.00\n",
       "22          241032  2016-02-14         t  $85.00\n",
       "23          241032  2016-02-15         t  $85.00\n",
       "24          241032  2016-02-16         t  $85.00\n",
       "25          241032  2016-02-17         t  $85.00\n",
       "26          241032  2016-02-18         t  $85.00\n",
       "27          241032  2016-02-19         t  $85.00\n",
       "28          241032  2016-02-20         t  $85.00\n",
       "29          241032  2016-02-21         t  $85.00\n",
       "...            ...         ...       ...     ...\n",
       "934512     9604740  2016-06-08         t  $99.00\n",
       "934513     9604740  2016-06-09         t  $99.00\n",
       "934514     9604740  2016-06-10         t  $99.00\n",
       "934515     9604740  2016-06-11         t  $99.00\n",
       "934516     9604740  2016-06-12         t  $99.00\n",
       "934517     9604740  2016-06-13         t  $99.00\n",
       "934518     9604740  2016-06-14         t  $99.00\n",
       "934519     9604740  2016-06-15         t  $99.00\n",
       "934520     9604740  2016-06-16         t  $99.00\n",
       "934521     9604740  2016-06-17         t  $99.00\n",
       "934522     9604740  2016-06-18         t  $99.00\n",
       "934523     9604740  2016-06-19         t  $99.00\n",
       "934524     9604740  2016-06-20         t  $99.00\n",
       "934525     9604740  2016-06-21         t  $99.00\n",
       "934526     9604740  2016-06-22         t  $99.00\n",
       "934527     9604740  2016-06-23         t  $99.00\n",
       "934528     9604740  2016-06-24         t  $99.00\n",
       "934529     9604740  2016-06-25         t  $99.00\n",
       "934530     9604740  2016-06-26         t  $99.00\n",
       "934531     9604740  2016-06-27         t  $99.00\n",
       "934532     9604740  2016-06-28         t  $99.00\n",
       "934533     9604740  2016-06-29         t  $99.00\n",
       "934534     9604740  2016-06-30         t  $99.00\n",
       "934535    10208623  2016-01-04         t  $87.00\n",
       "934536    10208623  2016-01-05         t  $87.00\n",
       "934537    10208623  2016-01-06         t  $87.00\n",
       "934538    10208623  2016-01-07         t  $87.00\n",
       "934539    10208623  2016-01-10         t  $87.00\n",
       "934540    10208623  2016-01-11         t  $87.00\n",
       "934541    10208623  2016-01-12         t  $87.00\n",
       "\n",
       "[934542 rows x 4 columns]"
      ]
     },
     "execution_count": 34,
     "metadata": {},
     "output_type": "execute_result"
    }
   ],
   "source": [
    "calendar_drop"
   ]
  },
  {
   "cell_type": "code",
   "execution_count": 35,
   "metadata": {},
   "outputs": [
    {
     "data": {
      "text/plain": [
       "$150.00    36646\n",
       "$100.00    31755\n",
       "$75.00     29820\n",
       "$125.00    27538\n",
       "$65.00     26415\n",
       "$90.00     24942\n",
       "$95.00     24327\n",
       "$99.00     23629\n",
       "$85.00     23455\n",
       "$80.00     19817\n",
       "$110.00    19454\n",
       "$120.00    19145\n",
       "$70.00     18439\n",
       "$60.00     18004\n",
       "$175.00    17707\n",
       "$250.00    16870\n",
       "$55.00     16864\n",
       "$200.00    16144\n",
       "$50.00     15978\n",
       "$115.00    14775\n",
       "$40.00     13357\n",
       "$69.00     12922\n",
       "$135.00    11455\n",
       "$105.00    11062\n",
       "$130.00    11008\n",
       "$89.00     10355\n",
       "$79.00     10133\n",
       "$225.00     8163\n",
       "$45.00      8134\n",
       "$129.00     8111\n",
       "           ...  \n",
       "$708.00        1\n",
       "$722.00        1\n",
       "$570.00        1\n",
       "$562.00        1\n",
       "$674.00        1\n",
       "$406.00        1\n",
       "$683.00        1\n",
       "$711.00        1\n",
       "$643.00        1\n",
       "$751.00        1\n",
       "$737.00        1\n",
       "$567.00        1\n",
       "$794.00        1\n",
       "$652.00        1\n",
       "$624.00        1\n",
       "$583.00        1\n",
       "$534.00        1\n",
       "$494.00        1\n",
       "$817.00        1\n",
       "$524.00        1\n",
       "$12.00         1\n",
       "$733.00        1\n",
       "$727.00        1\n",
       "$654.00        1\n",
       "$625.00        1\n",
       "$676.00        1\n",
       "$745.00        1\n",
       "$788.00        1\n",
       "$533.00        1\n",
       "$723.00        1\n",
       "Name: price, Length: 669, dtype: int64"
      ]
     },
     "execution_count": 35,
     "metadata": {},
     "output_type": "execute_result"
    }
   ],
   "source": [
    "# Explore 'price' in calendar_drop\n",
    "calendar_drop['price'].value_counts()"
   ]
  },
  {
   "cell_type": "code",
   "execution_count": 36,
   "metadata": {},
   "outputs": [
    {
     "data": {
      "text/plain": [
       "Index(['listing_id', 'date', 'available', 'price'], dtype='object')"
      ]
     },
     "execution_count": 36,
     "metadata": {},
     "output_type": "execute_result"
    }
   ],
   "source": [
    "calendar.columns"
   ]
  },
  {
   "cell_type": "code",
   "execution_count": 37,
   "metadata": {},
   "outputs": [
    {
     "data": {
      "text/plain": [
       "0        2016-01-04\n",
       "1        2016-01-05\n",
       "2        2016-01-13\n",
       "3        2016-01-14\n",
       "4        2016-01-18\n",
       "5        2016-01-19\n",
       "6        2016-01-20\n",
       "7        2016-01-24\n",
       "8        2016-01-25\n",
       "9        2016-01-26\n",
       "10       2016-01-27\n",
       "11       2016-01-28\n",
       "12       2016-02-01\n",
       "13       2016-02-02\n",
       "14       2016-02-03\n",
       "15       2016-02-04\n",
       "16       2016-02-05\n",
       "17       2016-02-06\n",
       "18       2016-02-07\n",
       "19       2016-02-08\n",
       "20       2016-02-09\n",
       "21       2016-02-10\n",
       "22       2016-02-14\n",
       "23       2016-02-15\n",
       "24       2016-02-16\n",
       "25       2016-02-17\n",
       "26       2016-02-18\n",
       "27       2016-02-19\n",
       "28       2016-02-20\n",
       "29       2016-02-21\n",
       "            ...    \n",
       "934512   2016-06-08\n",
       "934513   2016-06-09\n",
       "934514   2016-06-10\n",
       "934515   2016-06-11\n",
       "934516   2016-06-12\n",
       "934517   2016-06-13\n",
       "934518   2016-06-14\n",
       "934519   2016-06-15\n",
       "934520   2016-06-16\n",
       "934521   2016-06-17\n",
       "934522   2016-06-18\n",
       "934523   2016-06-19\n",
       "934524   2016-06-20\n",
       "934525   2016-06-21\n",
       "934526   2016-06-22\n",
       "934527   2016-06-23\n",
       "934528   2016-06-24\n",
       "934529   2016-06-25\n",
       "934530   2016-06-26\n",
       "934531   2016-06-27\n",
       "934532   2016-06-28\n",
       "934533   2016-06-29\n",
       "934534   2016-06-30\n",
       "934535   2016-01-04\n",
       "934536   2016-01-05\n",
       "934537   2016-01-06\n",
       "934538   2016-01-07\n",
       "934539   2016-01-10\n",
       "934540   2016-01-11\n",
       "934541   2016-01-12\n",
       "Name: date_time, Length: 934542, dtype: datetime64[ns]"
      ]
     },
     "execution_count": 37,
     "metadata": {},
     "output_type": "execute_result"
    }
   ],
   "source": [
    "# Convert date to date_time\n",
    "date = list(calendar_drop['date'])\n",
    "calendar_drop['date_time'] = [parse(x) for x in date]\n",
    "calendar_drop['date_time']"
   ]
  },
  {
   "cell_type": "code",
   "execution_count": 38,
   "metadata": {},
   "outputs": [],
   "source": [
    "# Divide calendar into appropriate seasons putting the price column into appropriate lists.\n",
    "# Winter is from December to February, Spring from March to May,\n",
    "# Summer from June to September and Fall from October to November.\n",
    "winter = []\n",
    "spring = []\n",
    "summer = []\n",
    "fall = []\n",
    "for x in range(len(calendar_drop)):\n",
    "    if calendar_drop['date_time'][x].month in [1,2,12]:\n",
    "        winter.append(calendar_drop['price'][x])\n",
    "    elif calendar_drop['date_time'][x].month in [3,4,5]:\n",
    "        spring.append(calendar_drop['price'][x])\n",
    "    elif calendar_drop['date_time'][x].month in [6,7,8,9]:\n",
    "        summer.append(calendar_drop['price'][x])\n",
    "    else:\n",
    "        fall.append(calendar_drop['price'][x])\n",
    "    "
   ]
  },
  {
   "cell_type": "code",
   "execution_count": 41,
   "metadata": {},
   "outputs": [],
   "source": [
    "def clean_season_price(season):\n",
    "    '''\n",
    "    INPUT\n",
    "    season - List of prices for a particular season \n",
    "    OUTPUT\n",
    "    Returns the list of prices in 'float64' format\n",
    "       \n",
    "    This function cleans a price of its '$' and any commas and converts the string to a float.\n",
    "    '''   \n",
    "    for x in range(len(season)):\n",
    "        season[x] = season[x].replace('$','')\n",
    "        season[x] = season[x].replace(',','')  \n",
    "        season[x] = float(season[x])\n",
    "    return season"
   ]
  },
  {
   "cell_type": "code",
   "execution_count": 42,
   "metadata": {},
   "outputs": [],
   "source": [
    "# Convert all season lists to Panda Series\n",
    "winter = pd.DataFrame(clean_season_price(winter), columns = ['winter']) \n",
    "spring = pd.DataFrame(clean_season_price(spring), columns = ['spring'])\n",
    "summer = pd.DataFrame(clean_season_price(summer), columns = ['summer'])\n",
    "fall = pd.DataFrame(clean_season_price(fall), columns = ['fall'])"
   ]
  },
  {
   "cell_type": "code",
   "execution_count": 43,
   "metadata": {},
   "outputs": [
    {
     "data": {
      "text/plain": [
       "128.9025115502909"
      ]
     },
     "execution_count": 43,
     "metadata": {},
     "output_type": "execute_result"
    }
   ],
   "source": [
    "# Find the average prices in each season\n",
    "winter['winter'].mean()"
   ]
  },
  {
   "cell_type": "code",
   "execution_count": 44,
   "metadata": {},
   "outputs": [
    {
     "data": {
      "text/plain": [
       "134.31997199369857"
      ]
     },
     "execution_count": 44,
     "metadata": {},
     "output_type": "execute_result"
    }
   ],
   "source": [
    "spring['spring'].mean()"
   ]
  },
  {
   "cell_type": "code",
   "execution_count": 45,
   "metadata": {},
   "outputs": [
    {
     "data": {
      "text/plain": [
       "148.32630737004973"
      ]
     },
     "execution_count": 45,
     "metadata": {},
     "output_type": "execute_result"
    }
   ],
   "source": [
    "summer['summer'].mean()"
   ]
  },
  {
   "cell_type": "code",
   "execution_count": 46,
   "metadata": {},
   "outputs": [
    {
     "data": {
      "text/plain": [
       "136.3630296313437"
      ]
     },
     "execution_count": 46,
     "metadata": {},
     "output_type": "execute_result"
    }
   ],
   "source": [
    "fall['fall'].mean()"
   ]
  },
  {
   "cell_type": "code",
   "execution_count": 63,
   "metadata": {},
   "outputs": [
    {
     "data": {
      "image/png": "[encoded data removed]",
      "text/plain": [
       "<Figure size 432x288 with 1 Axes>"
      ]
     },
     "metadata": {
      "needs_background": "light"
     },
     "output_type": "display_data"
    }
   ],
   "source": [
    "# Graph seasons with mean prices\n",
    "df = pd.DataFrame({'Season':['Winter', 'Spring', 'Summer', 'Fall'], 'Average Price':[winter['winter'].mean(), spring['spring'].mean(),\n",
    "                                                                            summer['summer'].mean(), fall['fall'].mean()]})\n",
    "ax = df.plot.bar(x='Season', y='Average Price', rot=0)\n",
    "plt.savefig('season.png')"
   ]
  },
  {
   "cell_type": "markdown",
   "metadata": {},
   "source": [
    "## Exploring the Reviews dataset\n",
    "\n",
    "Start exploring reviews to create a sentiment value for each review then divide the dataset into seasons to determine which seasons have the most negative reviews."
   ]
  },
  {
   "cell_type": "code",
   "execution_count": 48,
   "metadata": {},
   "outputs": [
    {
     "data": {
      "text/html": [
       "<div>\n",
       "<style scoped>\n",
       "    .dataframe tbody tr th:only-of-type {\n",
       "        vertical-align: middle;\n",
       "    }\n",
       "\n",
       "    .dataframe tbody tr th {\n",
       "        vertical-align: top;\n",
       "    }\n",
       "\n",
       "    .dataframe thead th {\n",
       "        text-align: right;\n",
       "    }\n",
       "</style>\n",
       "<table border=\"1\" class=\"dataframe\">\n",
       "  <thead>\n",
       "    <tr style=\"text-align: right;\">\n",
       "      <th></th>\n",
       "      <th>listing_id</th>\n",
       "      <th>id</th>\n",
       "      <th>date</th>\n",
       "      <th>reviewer_id</th>\n",
       "      <th>reviewer_name</th>\n",
       "      <th>comments</th>\n",
       "    </tr>\n",
       "  </thead>\n",
       "  <tbody>\n",
       "    <tr>\n",
       "      <th>0</th>\n",
       "      <td>7202016</td>\n",
       "      <td>38917982</td>\n",
       "      <td>2015-07-19</td>\n",
       "      <td>28943674</td>\n",
       "      <td>Bianca</td>\n",
       "      <td>Cute and cozy place. Perfect location to every...</td>\n",
       "    </tr>\n",
       "    <tr>\n",
       "      <th>1</th>\n",
       "      <td>7202016</td>\n",
       "      <td>39087409</td>\n",
       "      <td>2015-07-20</td>\n",
       "      <td>32440555</td>\n",
       "      <td>Frank</td>\n",
       "      <td>Kelly has a great room in a very central locat...</td>\n",
       "    </tr>\n",
       "    <tr>\n",
       "      <th>2</th>\n",
       "      <td>7202016</td>\n",
       "      <td>39820030</td>\n",
       "      <td>2015-07-26</td>\n",
       "      <td>37722850</td>\n",
       "      <td>Ian</td>\n",
       "      <td>Very spacious apartment, and in a great neighb...</td>\n",
       "    </tr>\n",
       "    <tr>\n",
       "      <th>3</th>\n",
       "      <td>7202016</td>\n",
       "      <td>40813543</td>\n",
       "      <td>2015-08-02</td>\n",
       "      <td>33671805</td>\n",
       "      <td>George</td>\n",
       "      <td>Close to Seattle Center and all it has to offe...</td>\n",
       "    </tr>\n",
       "    <tr>\n",
       "      <th>4</th>\n",
       "      <td>7202016</td>\n",
       "      <td>41986501</td>\n",
       "      <td>2015-08-10</td>\n",
       "      <td>34959538</td>\n",
       "      <td>Ming</td>\n",
       "      <td>Kelly was a great host and very accommodating ...</td>\n",
       "    </tr>\n",
       "  </tbody>\n",
       "</table>\n",
       "</div>"
      ],
      "text/plain": [
       "   listing_id        id        date  reviewer_id reviewer_name  \\\n",
       "0     7202016  38917982  2015-07-19     28943674        Bianca   \n",
       "1     7202016  39087409  2015-07-20     32440555         Frank   \n",
       "2     7202016  39820030  2015-07-26     37722850           Ian   \n",
       "3     7202016  40813543  2015-08-02     33671805        George   \n",
       "4     7202016  41986501  2015-08-10     34959538          Ming   \n",
       "\n",
       "                                            comments  \n",
       "0  Cute and cozy place. Perfect location to every...  \n",
       "1  Kelly has a great room in a very central locat...  \n",
       "2  Very spacious apartment, and in a great neighb...  \n",
       "3  Close to Seattle Center and all it has to offe...  \n",
       "4  Kelly was a great host and very accommodating ...  "
      ]
     },
     "execution_count": 48,
     "metadata": {},
     "output_type": "execute_result"
    }
   ],
   "source": [
    "reviews.head()"
   ]
  },
  {
   "cell_type": "code",
   "execution_count": 49,
   "metadata": {
    "scrolled": true
   },
   "outputs": [
    {
     "data": {
      "text/plain": [
       "0.0"
      ]
     },
     "execution_count": 49,
     "metadata": {},
     "output_type": "execute_result"
    }
   ],
   "source": [
    "reviews['date'].isnull().mean()\n"
   ]
  },
  {
   "cell_type": "code",
   "execution_count": 50,
   "metadata": {},
   "outputs": [
    {
     "data": {
      "text/plain": [
       "0        Cute and cozy place. Perfect location to every...\n",
       "1        Kelly has a great room in a very central locat...\n",
       "2        Very spacious apartment, and in a great neighb...\n",
       "3        Close to Seattle Center and all it has to offe...\n",
       "4        Kelly was a great host and very accommodating ...\n",
       "5        Kelly was great, place was great, just what I ...\n",
       "6        Kelly was great! Very nice and the neighborhoo...\n",
       "7        hola all bnb erz - Just left Seattle where I h...\n",
       "8        Kelly's place is conveniently located on a qui...\n",
       "9        The place was really nice, clean, and the most...\n",
       "10       The place was really nice, clean and quiet at ...\n",
       "11       The listing was exactly as described!  Kelly's...\n",
       "12       Very welcoming and a nicer place to live in th...\n",
       "13       Great location, great price, great host! Thank...\n",
       "14       Staying at Kelly's was easy. The location was ...\n",
       "15       Kelly was an amazing host who made the stay ve...\n",
       "16       Despite our late booking request, Rachel & Jon...\n",
       "17       Rachel & Jon have a nice house closed to downt...\n",
       "18       Rachel and Jon have been the perfect hosts for...\n",
       "19       This house was a delightful bright place to st...\n",
       "20       Beautiful place, nice neighborhood and lovely ...\n",
       "21       Super cozy home. Located near some good restau...\n",
       "22       Cute house, and Rachel and Jon were super nice...\n",
       "23       Rachel and Jon were really great hosts. Warm, ...\n",
       "24       The house was easy to locate and the arrangeme...\n",
       "25       Rachel and Jon were very obliging hosts, super...\n",
       "26       What a great stay at Rachel and Jon's! They we...\n",
       "27       We had an amazing time and felt very welcome i...\n",
       "28       It was very easy to get in touch with Rachel t...\n",
       "29       Rachel and Jon's home is beautiful and inspiri...\n",
       "                               ...                        \n",
       "84819    I had a good experience staying with Michael a...\n",
       "84820    This was a great place to stay.  First off it ...\n",
       "84821    Awesome location and price. The apartment was ...\n",
       "84822                 Nice neighbourhood and warm welcome.\n",
       "84823    Great location. I was a little scared to enter...\n",
       "84824    My boyfriend and I had a great experience stay...\n",
       "84825    Had a great stay. Michael and Leah  made it re...\n",
       "84826    We had a good stay at Michael. He and Leah pro...\n",
       "84827    In big city, it is very hard to find a clean r...\n",
       "84828    I was searching for a place last minute for my...\n",
       "84829                Very nice apartment, clean and quite.\n",
       "84830    The location is super convenient to the state ...\n",
       "84831    This apartment is in a great location - easy w...\n",
       "84832    Absolutely perfect stay! Doug & Rebecca were s...\n",
       "84833    Excellent room, very attentive property manage...\n",
       "84834    Great, clean place in a perfect location for a...\n",
       "84835    What an amazing place to stay in Seattle! A fe...\n",
       "84836    We had an excellent stay at Seattle Suites! Th...\n",
       "84837    The apartment was clean and accurate to the de...\n",
       "84838    We were warmly greeted by Doug at the time agr...\n",
       "84839    The apartment was clean, tidy and as described...\n",
       "84840    We were with 7 people in rebecca's two 2-bed a...\n",
       "84841    Great place in the middle of the city. Easy to...\n",
       "84842    We loved how close it was to the Convention Ce...\n",
       "84843    Comfortability upon arrival and everything wit...\n",
       "84844    The description and pictures of the apartment ...\n",
       "84845    We had an excellent stay. It was clean and com...\n",
       "84846    Gran ubicación, cerca de todo lo atractivo del...\n",
       "84847    Very good apartement, clean and well sized. Si...\n",
       "84848    Breanne was a great host. Check in was easy, s...\n",
       "Name: comments, Length: 84849, dtype: object"
      ]
     },
     "execution_count": 50,
     "metadata": {},
     "output_type": "execute_result"
    }
   ],
   "source": [
    "reviews['comments']"
   ]
  },
  {
   "cell_type": "code",
   "execution_count": 51,
   "metadata": {},
   "outputs": [],
   "source": [
    "# Remove missing values from dataset\n",
    "reviews_drop = reviews.dropna(subset=['comments'], axis=0)"
   ]
  },
  {
   "cell_type": "code",
   "execution_count": 52,
   "metadata": {},
   "outputs": [],
   "source": [
    "# Reset index of new DataFrame\n",
    "reviews_drop = reviews_drop.reset_index(drop=True)"
   ]
  },
  {
   "cell_type": "code",
   "execution_count": 53,
   "metadata": {},
   "outputs": [
    {
     "data": {
      "text/plain": [
       "0       2015-07-19\n",
       "1       2015-07-20\n",
       "2       2015-07-26\n",
       "3       2015-08-02\n",
       "4       2015-08-10\n",
       "5       2015-08-23\n",
       "6       2015-09-01\n",
       "7       2015-09-13\n",
       "8       2015-09-21\n",
       "9       2015-09-26\n",
       "10      2015-10-04\n",
       "11      2015-10-12\n",
       "12      2015-11-13\n",
       "13      2015-11-21\n",
       "14      2015-11-29\n",
       "15      2016-01-02\n",
       "16      2014-10-05\n",
       "17      2014-10-13\n",
       "18      2014-11-16\n",
       "19      2014-11-17\n",
       "20      2014-11-30\n",
       "21      2014-12-01\n",
       "22      2014-12-08\n",
       "23      2014-12-15\n",
       "24      2014-12-20\n",
       "25      2014-12-25\n",
       "26      2015-01-11\n",
       "27      2015-02-09\n",
       "28      2015-02-25\n",
       "29      2015-02-27\n",
       "           ...    \n",
       "84801   2015-08-26\n",
       "84802   2015-09-11\n",
       "84803   2015-09-21\n",
       "84804   2015-09-27\n",
       "84805   2015-09-30\n",
       "84806   2015-11-02\n",
       "84807   2015-11-16\n",
       "84808   2015-11-23\n",
       "84809   2015-11-27\n",
       "84810   2015-11-20\n",
       "84811   2015-12-01\n",
       "84812   2014-09-22\n",
       "84813   2014-11-21\n",
       "84814   2015-03-03\n",
       "84815   2015-03-30\n",
       "84816   2015-04-13\n",
       "84817   2015-05-10\n",
       "84818   2015-05-18\n",
       "84819   2015-05-24\n",
       "84820   2015-06-17\n",
       "84821   2015-07-01\n",
       "84822   2015-08-14\n",
       "84823   2015-09-08\n",
       "84824   2015-09-30\n",
       "84825   2015-10-06\n",
       "84826   2015-10-12\n",
       "84827   2015-10-17\n",
       "84828   2015-10-20\n",
       "84829   2015-11-02\n",
       "84830   2015-12-13\n",
       "Name: date_time, Length: 84831, dtype: datetime64[ns]"
      ]
     },
     "execution_count": 53,
     "metadata": {},
     "output_type": "execute_result"
    }
   ],
   "source": [
    "# Convert dates to date_time\n",
    "review_date = list(reviews_drop['date'])\n",
    "reviews_drop['date_time'] = [parse(x) for x in review_date]\n",
    "reviews_drop['date_time']\n"
   ]
  },
  {
   "cell_type": "code",
   "execution_count": 54,
   "metadata": {},
   "outputs": [
    {
     "data": {
      "text/plain": [
       "0        Cute and cozy place. Perfect location to every...\n",
       "1        Kelly has a great room in a very central locat...\n",
       "2        Very spacious apartment, and in a great neighb...\n",
       "3        Close to Seattle Center and all it has to offe...\n",
       "4        Kelly was a great host and very accommodating ...\n",
       "5        Kelly was great, place was great, just what I ...\n",
       "6        Kelly was great! Very nice and the neighborhoo...\n",
       "7        hola all bnb erz - Just left Seattle where I h...\n",
       "8        Kelly's place is conveniently located on a qui...\n",
       "9        The place was really nice, clean, and the most...\n",
       "10       The place was really nice, clean and quiet at ...\n",
       "11       The listing was exactly as described!  Kelly's...\n",
       "12       Very welcoming and a nicer place to live in th...\n",
       "13       Great location, great price, great host! Thank...\n",
       "14       Staying at Kelly's was easy. The location was ...\n",
       "15       Kelly was an amazing host who made the stay ve...\n",
       "16       Despite our late booking request, Rachel & Jon...\n",
       "17       Rachel & Jon have a nice house closed to downt...\n",
       "18       Rachel and Jon have been the perfect hosts for...\n",
       "19       This house was a delightful bright place to st...\n",
       "20       Beautiful place, nice neighborhood and lovely ...\n",
       "21       Super cozy home. Located near some good restau...\n",
       "22       Cute house, and Rachel and Jon were super nice...\n",
       "23       Rachel and Jon were really great hosts. Warm, ...\n",
       "24       The house was easy to locate and the arrangeme...\n",
       "25       Rachel and Jon were very obliging hosts, super...\n",
       "26       What a great stay at Rachel and Jon's! They we...\n",
       "27       We had an amazing time and felt very welcome i...\n",
       "28       It was very easy to get in touch with Rachel t...\n",
       "29       Rachel and Jon's home is beautiful and inspiri...\n",
       "                               ...                        \n",
       "84801    I had a good experience staying with Michael a...\n",
       "84802    This was a great place to stay.  First off it ...\n",
       "84803    Awesome location and price. The apartment was ...\n",
       "84804                 Nice neighbourhood and warm welcome.\n",
       "84805    Great location. I was a little scared to enter...\n",
       "84806    My boyfriend and I had a great experience stay...\n",
       "84807    Had a great stay. Michael and Leah  made it re...\n",
       "84808    We had a good stay at Michael. He and Leah pro...\n",
       "84809    In big city, it is very hard to find a clean r...\n",
       "84810    I was searching for a place last minute for my...\n",
       "84811                Very nice apartment, clean and quite.\n",
       "84812    The location is super convenient to the state ...\n",
       "84813    This apartment is in a great location - easy w...\n",
       "84814    Absolutely perfect stay! Doug & Rebecca were s...\n",
       "84815    Excellent room, very attentive property manage...\n",
       "84816    Great, clean place in a perfect location for a...\n",
       "84817    What an amazing place to stay in Seattle! A fe...\n",
       "84818    We had an excellent stay at Seattle Suites! Th...\n",
       "84819    The apartment was clean and accurate to the de...\n",
       "84820    We were warmly greeted by Doug at the time agr...\n",
       "84821    The apartment was clean, tidy and as described...\n",
       "84822    We were with 7 people in rebecca's two 2-bed a...\n",
       "84823    Great place in the middle of the city. Easy to...\n",
       "84824    We loved how close it was to the Convention Ce...\n",
       "84825    Comfortability upon arrival and everything wit...\n",
       "84826    The description and pictures of the apartment ...\n",
       "84827    We had an excellent stay. It was clean and com...\n",
       "84828    Gran ubicación, cerca de todo lo atractivo del...\n",
       "84829    Very good apartement, clean and well sized. Si...\n",
       "84830    Breanne was a great host. Check in was easy, s...\n",
       "Name: comments, Length: 84831, dtype: object"
      ]
     },
     "execution_count": 54,
     "metadata": {},
     "output_type": "execute_result"
    }
   ],
   "source": [
    "reviews_drop['comments']"
   ]
  },
  {
   "cell_type": "code",
   "execution_count": 55,
   "metadata": {
    "scrolled": false
   },
   "outputs": [],
   "source": [
    "from textblob import TextBlob\n",
    "import re\n",
    "sentiment = []\n",
    "def clean_review(review):\n",
    "    '''\n",
    "    Utility function to clean the text in a review by removing \n",
    "    links and special characters using regex.\n",
    "    '''\n",
    "    return ' '.join(re.sub(\"(@[A-Za-z0-9]+)|([^0-9A-Za-z \\t])|(\\w+:\\/\\/\\S+)\", \" \", review).split())\n",
    "\n",
    "def textblob_analyze_sentiment(review):\n",
    "    '''\n",
    "    Utility function to classify the polarity of a review\n",
    "    using textblob.\n",
    "    '''\n",
    "    analysis = TextBlob(clean_review(review))\n",
    "    if analysis.sentiment.polarity > 0:\n",
    "        return 1\n",
    "    elif analysis.sentiment.polarity == 0:\n",
    "        return 0\n",
    "    else:\n",
    "        return -1\n",
    "for count in range(len(reviews_drop)):\n",
    "    sentiment.append(textblob_analyze_sentiment(reviews_drop['comments'][count]))"
   ]
  },
  {
   "cell_type": "code",
   "execution_count": 56,
   "metadata": {},
   "outputs": [],
   "source": [
    "# Add sentiment values to the reviews_drop DataFrame\n",
    "reviews_drop['sentiment'] = pd.DataFrame(sentiment)"
   ]
  },
  {
   "cell_type": "code",
   "execution_count": 57,
   "metadata": {},
   "outputs": [
    {
     "data": {
      "text/html": [
       "<div>\n",
       "<style scoped>\n",
       "    .dataframe tbody tr th:only-of-type {\n",
       "        vertical-align: middle;\n",
       "    }\n",
       "\n",
       "    .dataframe tbody tr th {\n",
       "        vertical-align: top;\n",
       "    }\n",
       "\n",
       "    .dataframe thead th {\n",
       "        text-align: right;\n",
       "    }\n",
       "</style>\n",
       "<table border=\"1\" class=\"dataframe\">\n",
       "  <thead>\n",
       "    <tr style=\"text-align: right;\">\n",
       "      <th></th>\n",
       "      <th>listing_id</th>\n",
       "      <th>id</th>\n",
       "      <th>date</th>\n",
       "      <th>reviewer_id</th>\n",
       "      <th>reviewer_name</th>\n",
       "      <th>comments</th>\n",
       "      <th>date_time</th>\n",
       "      <th>sentiment</th>\n",
       "    </tr>\n",
       "  </thead>\n",
       "  <tbody>\n",
       "    <tr>\n",
       "      <th>0</th>\n",
       "      <td>7202016</td>\n",
       "      <td>38917982</td>\n",
       "      <td>2015-07-19</td>\n",
       "      <td>28943674</td>\n",
       "      <td>Bianca</td>\n",
       "      <td>Cute and cozy place. Perfect location to every...</td>\n",
       "      <td>2015-07-19</td>\n",
       "      <td>1</td>\n",
       "    </tr>\n",
       "    <tr>\n",
       "      <th>1</th>\n",
       "      <td>7202016</td>\n",
       "      <td>39087409</td>\n",
       "      <td>2015-07-20</td>\n",
       "      <td>32440555</td>\n",
       "      <td>Frank</td>\n",
       "      <td>Kelly has a great room in a very central locat...</td>\n",
       "      <td>2015-07-20</td>\n",
       "      <td>1</td>\n",
       "    </tr>\n",
       "    <tr>\n",
       "      <th>2</th>\n",
       "      <td>7202016</td>\n",
       "      <td>39820030</td>\n",
       "      <td>2015-07-26</td>\n",
       "      <td>37722850</td>\n",
       "      <td>Ian</td>\n",
       "      <td>Very spacious apartment, and in a great neighb...</td>\n",
       "      <td>2015-07-26</td>\n",
       "      <td>1</td>\n",
       "    </tr>\n",
       "    <tr>\n",
       "      <th>3</th>\n",
       "      <td>7202016</td>\n",
       "      <td>40813543</td>\n",
       "      <td>2015-08-02</td>\n",
       "      <td>33671805</td>\n",
       "      <td>George</td>\n",
       "      <td>Close to Seattle Center and all it has to offe...</td>\n",
       "      <td>2015-08-02</td>\n",
       "      <td>1</td>\n",
       "    </tr>\n",
       "    <tr>\n",
       "      <th>4</th>\n",
       "      <td>7202016</td>\n",
       "      <td>41986501</td>\n",
       "      <td>2015-08-10</td>\n",
       "      <td>34959538</td>\n",
       "      <td>Ming</td>\n",
       "      <td>Kelly was a great host and very accommodating ...</td>\n",
       "      <td>2015-08-10</td>\n",
       "      <td>1</td>\n",
       "    </tr>\n",
       "  </tbody>\n",
       "</table>\n",
       "</div>"
      ],
      "text/plain": [
       "   listing_id        id        date  reviewer_id reviewer_name  \\\n",
       "0     7202016  38917982  2015-07-19     28943674        Bianca   \n",
       "1     7202016  39087409  2015-07-20     32440555         Frank   \n",
       "2     7202016  39820030  2015-07-26     37722850           Ian   \n",
       "3     7202016  40813543  2015-08-02     33671805        George   \n",
       "4     7202016  41986501  2015-08-10     34959538          Ming   \n",
       "\n",
       "                                            comments  date_time  sentiment  \n",
       "0  Cute and cozy place. Perfect location to every... 2015-07-19          1  \n",
       "1  Kelly has a great room in a very central locat... 2015-07-20          1  \n",
       "2  Very spacious apartment, and in a great neighb... 2015-07-26          1  \n",
       "3  Close to Seattle Center and all it has to offe... 2015-08-02          1  \n",
       "4  Kelly was a great host and very accommodating ... 2015-08-10          1  "
      ]
     },
     "execution_count": 57,
     "metadata": {},
     "output_type": "execute_result"
    }
   ],
   "source": [
    "reviews_drop.head()"
   ]
  },
  {
   "cell_type": "code",
   "execution_count": 58,
   "metadata": {},
   "outputs": [],
   "source": [
    "# Divide calendar into appropriate seasons putting the sentiment column into appropriate lists.\n",
    "# Winter is from December to February, Spring from March to May,\n",
    "# Summer from June to September and Fall from October to November.\n",
    "winter1 = []\n",
    "spring1 = []\n",
    "summer1 = []\n",
    "fall1 = []\n",
    "for x in range(len(reviews_drop)):\n",
    "    if reviews_drop['date_time'][x].month in [1,2,12]:\n",
    "        winter1.append(reviews_drop['sentiment'][x])\n",
    "    elif reviews_drop['date_time'][x].month in [3,4,5]:\n",
    "        spring1.append(reviews_drop['sentiment'][x])\n",
    "    elif reviews_drop['date_time'][x].month in [6,7,8,9]:\n",
    "        summer1.append(reviews_drop['sentiment'][x])\n",
    "    else:\n",
    "        fall1.append(reviews_drop['sentiment'][x])\n",
    "        \n",
    "# Create Panda Series out of each of the lists\n",
    "wint1 = pd.DataFrame(winter1, columns = ['sentiment'])\n",
    "spr1 = pd.DataFrame(spring1, columns = ['sentiment'])\n",
    "sum1 = pd.DataFrame(summer1, columns = ['sentiment'])\n",
    "fal1 = pd.DataFrame(fall1, columns = ['sentiment'])\n",
    " "
   ]
  },
  {
   "cell_type": "code",
   "execution_count": 59,
   "metadata": {},
   "outputs": [
    {
     "name": "stdout",
     "output_type": "stream",
     "text": [
      " 1    10972\n",
      " 0      214\n",
      "-1       50\n",
      "Name: sentiment, dtype: int64\n",
      " 1    13894\n",
      " 0      284\n",
      "-1       63\n",
      "Name: sentiment, dtype: int64\n",
      " 1    42713\n",
      " 0      808\n",
      "-1      214\n",
      "Name: sentiment, dtype: int64\n",
      " 1    15215\n",
      " 0      321\n",
      "-1       83\n",
      "Name: sentiment, dtype: int64\n"
     ]
    }
   ],
   "source": [
    "# Explore the sentiment for each season\n",
    "\n",
    "print(wint1['sentiment'].value_counts())\n",
    "print(spr1['sentiment'].value_counts())\n",
    "print(sum1['sentiment'].value_counts())\n",
    "print(fal1['sentiment'].value_counts())"
   ]
  },
  {
   "cell_type": "code",
   "execution_count": 60,
   "metadata": {},
   "outputs": [
    {
     "name": "stdout",
     "output_type": "stream",
     "text": [
      "0.44499822000711997\n",
      "0.4423846639983148\n",
      "0.4893106207842689\n",
      "0.531404059158717\n"
     ]
    }
   ],
   "source": [
    "# Find the percentage of reviews that are negative for each season\n",
    "\n",
    "count1 = wint1[wint1.sentiment==-1].count()/len(wint1)*100\n",
    "print(count1[0])\n",
    "count2 = spr1[spr1.sentiment==-1].count()/len(spr1)*100\n",
    "print(count2[0])\n",
    "count3 = sum1[sum1.sentiment==-1].count()/len(sum1)*100\n",
    "print(count3[0])\n",
    "count4 = fal1[fal1.sentiment==-1].count()/len(fal1)*100\n",
    "print(count4[0])"
   ]
  },
  {
   "cell_type": "code",
   "execution_count": 61,
   "metadata": {},
   "outputs": [
    {
     "data": {
      "image/png": "[encoded data removed]",
      "text/plain": [
       "<Figure size 432x288 with 1 Axes>"
      ]
     },
     "metadata": {
      "needs_background": "light"
     },
     "output_type": "display_data"
    }
   ],
   "source": [
    "# Graph the Seasons vs Percentage\n",
    "\n",
    "df2 = pd.DataFrame({'Season':['Winter', 'Spring', 'Summer', 'Fall'], 'percentage':[count1[0], count2[0], count3[0], count4[0]]})\n",
    "ax = df2.plot.bar(x='Season', y='percentage', rot=0)\n",
    "plt.savefig('season_reviews.png')"
   ]
  }
 ],
 "metadata": {
  "kernelspec": {
   "display_name": "Python 3",
   "language": "python",
   "name": "python3"
  },
  "language_info": {
   "codemirror_mode": {
    "name": "ipython",
    "version": 3
   },
   "file_extension": ".py",
   "mimetype": "text/x-python",
   "name": "python",
   "nbconvert_exporter": "python",
   "pygments_lexer": "ipython3",
   "version": "3.7.1"
  }
 },
 "nbformat": 4,
 "nbformat_minor": 2
}
